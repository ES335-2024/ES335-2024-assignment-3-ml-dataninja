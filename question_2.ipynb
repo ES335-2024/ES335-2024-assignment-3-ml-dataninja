{
 "cells": [
  {
   "cell_type": "code",
   "execution_count": 69,
   "metadata": {},
   "outputs": [],
   "source": [
    "import numpy as np\n",
    "import pandas as pd\n",
    "import matplotlib.pyplot as plt"
   ]
  },
  {
   "cell_type": "code",
   "execution_count": 81,
   "metadata": {},
   "outputs": [
    {
     "name": "stdout",
     "output_type": "stream",
     "text": [
      "          x1        x2  y\n",
      "0   5.903165 -1.128848  0\n",
      "1   2.605822 -0.750230  0\n",
      "2   4.941859 -1.869520  0\n",
      "3   4.672267 -2.583034  0\n",
      "4   3.542134 -5.034171  0\n",
      "5   5.733187 -3.198720  0\n",
      "6   3.129412 -3.928968  0\n",
      "7   5.266357 -4.649760  0\n",
      "8   3.053472 -2.444929  0\n",
      "9   2.501208 -4.126381  0\n",
      "10  5.488328 -0.502167  0\n",
      "11  3.929720 -0.542187  0\n",
      "12  2.527999 -4.457290  0\n",
      "13  3.929104 -5.334652  0\n",
      "14  5.750233 -4.842224  0\n",
      "15  3.320518 -3.002495  0\n",
      "16  2.681027 -1.628486  0\n",
      "17  3.425554 -4.750833  0\n",
      "18  1.277026 -4.511799  0\n",
      "19  3.067225 -0.889969  0\n",
      "20  1.482990 -3.504908  0\n",
      "21  5.312626 -2.299890  0\n",
      "22  5.303618 -4.598003  0\n",
      "23  1.963044 -5.388196  0\n",
      "24  4.011616 -2.904858  0\n",
      "25  5.173229 -3.137154  0\n",
      "26  1.362457 -5.083970  0\n",
      "27  4.261171 -2.269163  0\n",
      "28  2.245939 -2.735939  0\n",
      "29  2.370010 -2.075176  0\n",
      "30  1.583470 -5.132727  0\n",
      "31  2.881639 -1.490833  0\n",
      "32  2.245288 -4.667705  0\n",
      "33  4.255508 -2.883889  0\n",
      "34  4.650361 -1.288224  0\n",
      "35  1.520569 -5.866017  0\n",
      "36  3.859544 -4.053825  0\n",
      "37  1.175800 -0.762466  0\n",
      "38  2.682793 -0.931742  0\n",
      "39  2.891521 -2.769356  0\n",
      "40  5.426270 -0.800350  0\n",
      "41  1.252554 -0.301164  0\n",
      "42  3.750439 -1.041558  0\n",
      "43  3.108052 -0.875307  0\n",
      "44  3.959316 -5.407540  0\n",
      "45  4.814865 -2.092174  0\n",
      "46  1.483102 -1.778898  0\n",
      "47  3.131603 -2.338555  0\n",
      "48  5.985648 -1.202308  0\n",
      "49  2.914275 -5.792573  0\n"
     ]
    }
   ],
   "source": [
    "np.random.seed(1)\n",
    "# training set\n",
    "x1 =  np.random.uniform(6,size = 100) # x1 between [0,6]\n",
    "x2 =  np.random.uniform(6,size = 100) # x2 between [0,6]\n",
    "x3 =  np.random.uniform(-6, 0 ,size = 100) # x3 between [-6,0]\n",
    "x4 =  np.random.uniform(-6, 0, size = 100) # x4 between [-6,0]\n",
    "\n",
    "dataset_0_0 = pd.DataFrame({'x1': x1[ : 50], 'x2': x2[ : 50], 'y': [0]*50})\n",
    "# dataset_0_0\n",
    "dataset_0_1 = pd.DataFrame({'x1': x1[50 : ], 'x2': x4[ : 50], 'y': [1]*50})\n",
    "print(dataset_0_1)\n",
    "dataset_1_0 = pd.DataFrame({'x1': x3[ : 50], 'x2': x2[50 : ], 'y': [1]*50})\n",
    "# dataset_1_0\n",
    "dataset_1_1 = pd.DataFrame({'x1': x3[50 : ], 'x2': x4[50 : ], 'y': [0]*50})\n",
    "# dataset_1_1\n",
    "train_data = pd.concat([dataset_0_0, dataset_0_1, dataset_1_0, dataset_1_1])\n",
    "# randomly shuffled the train_data\n",
    "# train_data = train_data.sample(frac = 1).reset_index(drop = True)\n",
    "# train_data"
   ]
  },
  {
   "cell_type": "code",
   "execution_count": 88,
   "metadata": {},
   "outputs": [
    {
     "data": {
      "text/plain": [
       "<matplotlib.collections.PathCollection at 0x272728e6850>"
      ]
     },
     "execution_count": 88,
     "metadata": {},
     "output_type": "execute_result"
    },
    {
     "data": {
      "image/png": "[encoded data removed]",
      "text/plain": [
       "<Figure size 640x480 with 1 Axes>"
      ]
     },
     "metadata": {},
     "output_type": "display_data"
    }
   ],
   "source": [
    "fig = plt.figure()\n",
    "ax = plt.axes()\n",
    "ax.scatter(train_data['x1'][train_data['y'] == 0], train_data['x2'][train_data['y'] == 0], color = 'orange')\n",
    "ax.scatter(train_data['x1'][train_data['y'] == 1], train_data['x2'][train_data['y'] == 1], color = 'blue')"
   ]
  },
  {
   "cell_type": "code",
   "execution_count": 68,
   "metadata": {},
   "outputs": [
    {
     "data": {
      "text/html": [
       "<div>\n",
       "<style scoped>\n",
       "    .dataframe tbody tr th:only-of-type {\n",
       "        vertical-align: middle;\n",
       "    }\n",
       "\n",
       "    .dataframe tbody tr th {\n",
       "        vertical-align: top;\n",
       "    }\n",
       "\n",
       "    .dataframe thead th {\n",
       "        text-align: right;\n",
       "    }\n",
       "</style>\n",
       "<table border=\"1\" class=\"dataframe\">\n",
       "  <thead>\n",
       "    <tr style=\"text-align: right;\">\n",
       "      <th></th>\n",
       "      <th>x1</th>\n",
       "      <th>x2</th>\n",
       "      <th>y1</th>\n",
       "    </tr>\n",
       "  </thead>\n",
       "  <tbody>\n",
       "    <tr>\n",
       "      <th>0</th>\n",
       "      <td>2.677554</td>\n",
       "      <td>-0.116946</td>\n",
       "      <td>0</td>\n",
       "    </tr>\n",
       "    <tr>\n",
       "      <th>1</th>\n",
       "      <td>-0.740016</td>\n",
       "      <td>2.317857</td>\n",
       "      <td>0</td>\n",
       "    </tr>\n",
       "    <tr>\n",
       "      <th>2</th>\n",
       "      <td>-5.618369</td>\n",
       "      <td>1.146977</td>\n",
       "      <td>0</td>\n",
       "    </tr>\n",
       "    <tr>\n",
       "      <th>3</th>\n",
       "      <td>-3.585207</td>\n",
       "      <td>-3.556030</td>\n",
       "      <td>1</td>\n",
       "    </tr>\n",
       "    <tr>\n",
       "      <th>4</th>\n",
       "      <td>-0.500088</td>\n",
       "      <td>-5.729196</td>\n",
       "      <td>1</td>\n",
       "    </tr>\n",
       "    <tr>\n",
       "      <th>...</th>\n",
       "      <td>...</td>\n",
       "      <td>...</td>\n",
       "      <td>...</td>\n",
       "    </tr>\n",
       "    <tr>\n",
       "      <th>195</th>\n",
       "      <td>2.897847</td>\n",
       "      <td>-5.970784</td>\n",
       "      <td>0</td>\n",
       "    </tr>\n",
       "    <tr>\n",
       "      <th>196</th>\n",
       "      <td>2.459420</td>\n",
       "      <td>-5.740272</td>\n",
       "      <td>0</td>\n",
       "    </tr>\n",
       "    <tr>\n",
       "      <th>197</th>\n",
       "      <td>-0.321230</td>\n",
       "      <td>-4.103066</td>\n",
       "      <td>1</td>\n",
       "    </tr>\n",
       "    <tr>\n",
       "      <th>198</th>\n",
       "      <td>2.084982</td>\n",
       "      <td>2.387607</td>\n",
       "      <td>1</td>\n",
       "    </tr>\n",
       "    <tr>\n",
       "      <th>199</th>\n",
       "      <td>-1.014689</td>\n",
       "      <td>3.547740</td>\n",
       "      <td>0</td>\n",
       "    </tr>\n",
       "  </tbody>\n",
       "</table>\n",
       "<p>200 rows × 3 columns</p>\n",
       "</div>"
      ],
      "text/plain": [
       "           x1        x2  y1\n",
       "0    2.677554 -0.116946   0\n",
       "1   -0.740016  2.317857   0\n",
       "2   -5.618369  1.146977   0\n",
       "3   -3.585207 -3.556030   1\n",
       "4   -0.500088 -5.729196   1\n",
       "..        ...       ...  ..\n",
       "195  2.897847 -5.970784   0\n",
       "196  2.459420 -5.740272   0\n",
       "197 -0.321230 -4.103066   1\n",
       "198  2.084982  2.387607   1\n",
       "199 -1.014689  3.547740   0\n",
       "\n",
       "[200 rows x 3 columns]"
      ]
     },
     "execution_count": 68,
     "metadata": {},
     "output_type": "execute_result"
    }
   ],
   "source": [
    "np.random.seed(20)\n",
    "# test set\n",
    "x1 =  np.random.uniform(6,size = 100) # x1 between [0,6]\n",
    "x2 =  np.random.uniform(6,size = 100) # x2 between [0,6]\n",
    "x3 =  np.random.uniform(-6, 0 ,size = 100) # x3 between [-6,0]\n",
    "x4 =  np.random.uniform(-6, 0, size = 100) # x4 between [-6,0]\n",
    "\n",
    "dataset_0_0 = pd.DataFrame({'x1': x1[ : 50], 'x2': x2[ : 50], 'y1': [1]*50})\n",
    "# dataset_0_0\n",
    "dataset_0_1 = pd.DataFrame({'x1': x1[50 : ], 'x2': x4[ : 50], 'y1': [0]*50})\n",
    "# dataset_0_1\n",
    "dataset_1_0 = pd.DataFrame({'x1': x3[ : 50], 'x2': x2[50 : ], 'y1': [0]*50})\n",
    "# dataset_1_0\n",
    "dataset_1_1 = pd.DataFrame({'x1': x3[50 : ], 'x2': x4[50 : ], 'y1': [1]*50})\n",
    "# dataset_1_1\n",
    "test_data = pd.concat([dataset_0_0, dataset_0_1, dataset_1_0, dataset_1_1])\n",
    "# randomly shuffled the test_data\n",
    "test_data = test_data.sample(frac= 1).reset_index(drop= True) \n",
    "test_data"
   ]
  },
  {
   "cell_type": "code",
   "execution_count": null,
   "metadata": {},
   "outputs": [],
   "source": []
  }
 ],
 "metadata": {
  "kernelspec": {
   "display_name": "base",
   "language": "python",
   "name": "python3"
  },
  "language_info": {
   "codemirror_mode": {
    "name": "ipython",
    "version": 3
   },
   "file_extension": ".py",
   "mimetype": "text/x-python",
   "name": "python",
   "nbconvert_exporter": "python",
   "pygments_lexer": "ipython3",
   "version": "3.9.7"
  }
 },
 "nbformat": 4,
 "nbformat_minor": 2
}
